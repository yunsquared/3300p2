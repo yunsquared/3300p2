{
 "cells": [
  {
   "cell_type": "code",
   "execution_count": 34,
   "metadata": {},
   "outputs": [],
   "source": [
    "import json\n",
    "\n",
    "import matplotlib.pyplot as plt\n",
    "import os\n",
    "import pandas as pd\n",
    "import numpy as np\n",
    "from   collections import defaultdict\n",
    "import string\n"
   ]
  },
  {
   "cell_type": "code",
   "execution_count": 35,
   "metadata": {},
   "outputs": [],
   "source": [
    "data= pd.read_csv('datasets/population-clean.csv')\n",
    "data_solutions = pd.read_csv('datasets/solutions-clean.csv')"
   ]
  },
  {
   "cell_type": "code",
   "execution_count": 36,
   "metadata": {},
   "outputs": [
    {
     "data": {
      "text/html": [
       "<div>\n",
       "<style scoped>\n",
       "    .dataframe tbody tr th:only-of-type {\n",
       "        vertical-align: middle;\n",
       "    }\n",
       "\n",
       "    .dataframe tbody tr th {\n",
       "        vertical-align: top;\n",
       "    }\n",
       "\n",
       "    .dataframe thead th {\n",
       "        text-align: right;\n",
       "    }\n",
       "</style>\n",
       "<table border=\"1\" class=\"dataframe\">\n",
       "  <thead>\n",
       "    <tr style=\"text-align: right;\">\n",
       "      <th></th>\n",
       "      <th>year</th>\n",
       "      <th>origin_country</th>\n",
       "      <th>origin_iso</th>\n",
       "      <th>asylum_country</th>\n",
       "      <th>asylum_iso</th>\n",
       "      <th>number_refugees</th>\n",
       "      <th>number_asylum</th>\n",
       "      <th>idps_concern</th>\n",
       "      <th>venezuelans_displaced</th>\n",
       "      <th>stateless</th>\n",
       "      <th>of_concern</th>\n",
       "    </tr>\n",
       "  </thead>\n",
       "  <tbody>\n",
       "    <tr>\n",
       "      <th>0</th>\n",
       "      <td>2010</td>\n",
       "      <td>Afghanistan</td>\n",
       "      <td>AFG</td>\n",
       "      <td>Afghanistan</td>\n",
       "      <td>AFG</td>\n",
       "      <td>0</td>\n",
       "      <td>0</td>\n",
       "      <td>351907</td>\n",
       "      <td>NaN</td>\n",
       "      <td>0</td>\n",
       "      <td>838250</td>\n",
       "    </tr>\n",
       "    <tr>\n",
       "      <th>1</th>\n",
       "      <td>2010</td>\n",
       "      <td>Iran (Islamic Rep. of)</td>\n",
       "      <td>IRN</td>\n",
       "      <td>Afghanistan</td>\n",
       "      <td>AFG</td>\n",
       "      <td>30</td>\n",
       "      <td>21</td>\n",
       "      <td>0</td>\n",
       "      <td>NaN</td>\n",
       "      <td>0</td>\n",
       "      <td>0</td>\n",
       "    </tr>\n",
       "    <tr>\n",
       "      <th>2</th>\n",
       "      <td>2010</td>\n",
       "      <td>Iraq</td>\n",
       "      <td>IRQ</td>\n",
       "      <td>Afghanistan</td>\n",
       "      <td>AFG</td>\n",
       "      <td>6</td>\n",
       "      <td>0</td>\n",
       "      <td>0</td>\n",
       "      <td>NaN</td>\n",
       "      <td>0</td>\n",
       "      <td>0</td>\n",
       "    </tr>\n",
       "    <tr>\n",
       "      <th>3</th>\n",
       "      <td>2010</td>\n",
       "      <td>Pakistan</td>\n",
       "      <td>PAK</td>\n",
       "      <td>Afghanistan</td>\n",
       "      <td>AFG</td>\n",
       "      <td>6398</td>\n",
       "      <td>9</td>\n",
       "      <td>0</td>\n",
       "      <td>NaN</td>\n",
       "      <td>0</td>\n",
       "      <td>0</td>\n",
       "    </tr>\n",
       "    <tr>\n",
       "      <th>4</th>\n",
       "      <td>2010</td>\n",
       "      <td>Egypt</td>\n",
       "      <td>EGY</td>\n",
       "      <td>Albania</td>\n",
       "      <td>ALB</td>\n",
       "      <td>5</td>\n",
       "      <td>0</td>\n",
       "      <td>0</td>\n",
       "      <td>NaN</td>\n",
       "      <td>0</td>\n",
       "      <td>0</td>\n",
       "    </tr>\n",
       "  </tbody>\n",
       "</table>\n",
       "</div>"
      ],
      "text/plain": [
       "   year          origin_country origin_iso asylum_country asylum_iso  \\\n",
       "0  2010             Afghanistan        AFG    Afghanistan        AFG   \n",
       "1  2010  Iran (Islamic Rep. of)        IRN    Afghanistan        AFG   \n",
       "2  2010                    Iraq        IRQ    Afghanistan        AFG   \n",
       "3  2010                Pakistan        PAK    Afghanistan        AFG   \n",
       "4  2010                   Egypt        EGY        Albania        ALB   \n",
       "\n",
       "   number_refugees  number_asylum  idps_concern  venezuelans_displaced  \\\n",
       "0                0              0        351907                    NaN   \n",
       "1               30             21             0                    NaN   \n",
       "2                6              0             0                    NaN   \n",
       "3             6398              9             0                    NaN   \n",
       "4                5              0             0                    NaN   \n",
       "\n",
       "   stateless  of_concern  \n",
       "0          0      838250  \n",
       "1          0           0  \n",
       "2          0           0  \n",
       "3          0           0  \n",
       "4          0           0  "
      ]
     },
     "execution_count": 36,
     "metadata": {},
     "output_type": "execute_result"
    }
   ],
   "source": [
    "data.head()"
   ]
  },
  {
   "cell_type": "code",
   "execution_count": 37,
   "metadata": {},
   "outputs": [
    {
     "data": {
      "text/html": [
       "<div>\n",
       "<style scoped>\n",
       "    .dataframe tbody tr th:only-of-type {\n",
       "        vertical-align: middle;\n",
       "    }\n",
       "\n",
       "    .dataframe tbody tr th {\n",
       "        vertical-align: top;\n",
       "    }\n",
       "\n",
       "    .dataframe thead th {\n",
       "        text-align: right;\n",
       "    }\n",
       "</style>\n",
       "<table border=\"1\" class=\"dataframe\">\n",
       "  <thead>\n",
       "    <tr style=\"text-align: right;\">\n",
       "      <th></th>\n",
       "      <th>year</th>\n",
       "      <th>origin_country</th>\n",
       "      <th>origin_iso</th>\n",
       "      <th>asylum_country</th>\n",
       "      <th>asylum_iso</th>\n",
       "      <th>returned_refugees</th>\n",
       "      <th>returned_idpss</th>\n",
       "      <th>resettlement_arrivals</th>\n",
       "      <th>naturalisation</th>\n",
       "    </tr>\n",
       "  </thead>\n",
       "  <tbody>\n",
       "    <tr>\n",
       "      <th>0</th>\n",
       "      <td>2010</td>\n",
       "      <td>Afghanistan</td>\n",
       "      <td>AFG</td>\n",
       "      <td>Afghanistan</td>\n",
       "      <td>AFG</td>\n",
       "      <td>NaN</td>\n",
       "      <td>3366.0</td>\n",
       "      <td>NaN</td>\n",
       "      <td>NaN</td>\n",
       "    </tr>\n",
       "    <tr>\n",
       "      <th>1</th>\n",
       "      <td>2010</td>\n",
       "      <td>Iraq</td>\n",
       "      <td>IRQ</td>\n",
       "      <td>Egypt</td>\n",
       "      <td>EGY</td>\n",
       "      <td>243.0</td>\n",
       "      <td>NaN</td>\n",
       "      <td>NaN</td>\n",
       "      <td>NaN</td>\n",
       "    </tr>\n",
       "    <tr>\n",
       "      <th>2</th>\n",
       "      <td>2010</td>\n",
       "      <td>Somalia</td>\n",
       "      <td>SOM</td>\n",
       "      <td>Egypt</td>\n",
       "      <td>EGY</td>\n",
       "      <td>12.0</td>\n",
       "      <td>NaN</td>\n",
       "      <td>NaN</td>\n",
       "      <td>NaN</td>\n",
       "    </tr>\n",
       "    <tr>\n",
       "      <th>3</th>\n",
       "      <td>2010</td>\n",
       "      <td>Sudan</td>\n",
       "      <td>SDN</td>\n",
       "      <td>Egypt</td>\n",
       "      <td>EGY</td>\n",
       "      <td>251.0</td>\n",
       "      <td>NaN</td>\n",
       "      <td>NaN</td>\n",
       "      <td>NaN</td>\n",
       "    </tr>\n",
       "    <tr>\n",
       "      <th>4</th>\n",
       "      <td>2010</td>\n",
       "      <td>Colombia</td>\n",
       "      <td>COL</td>\n",
       "      <td>Argentina</td>\n",
       "      <td>ARG</td>\n",
       "      <td>NaN</td>\n",
       "      <td>NaN</td>\n",
       "      <td>15.0</td>\n",
       "      <td>NaN</td>\n",
       "    </tr>\n",
       "  </tbody>\n",
       "</table>\n",
       "</div>"
      ],
      "text/plain": [
       "   year origin_country origin_iso asylum_country asylum_iso  \\\n",
       "0  2010    Afghanistan        AFG    Afghanistan        AFG   \n",
       "1  2010           Iraq        IRQ          Egypt        EGY   \n",
       "2  2010        Somalia        SOM          Egypt        EGY   \n",
       "3  2010          Sudan        SDN          Egypt        EGY   \n",
       "4  2010       Colombia        COL      Argentina        ARG   \n",
       "\n",
       "   returned_refugees  returned_idpss  resettlement_arrivals  naturalisation  \n",
       "0                NaN          3366.0                    NaN             NaN  \n",
       "1              243.0             NaN                    NaN             NaN  \n",
       "2               12.0             NaN                    NaN             NaN  \n",
       "3              251.0             NaN                    NaN             NaN  \n",
       "4                NaN             NaN                   15.0             NaN  "
      ]
     },
     "execution_count": 37,
     "metadata": {},
     "output_type": "execute_result"
    }
   ],
   "source": [
    "data_solutions.head()"
   ]
  },
  {
   "cell_type": "code",
   "execution_count": 38,
   "metadata": {},
   "outputs": [
    {
     "data": {
      "text/html": [
       "<div>\n",
       "<style scoped>\n",
       "    .dataframe tbody tr th:only-of-type {\n",
       "        vertical-align: middle;\n",
       "    }\n",
       "\n",
       "    .dataframe tbody tr th {\n",
       "        vertical-align: top;\n",
       "    }\n",
       "\n",
       "    .dataframe thead th {\n",
       "        text-align: right;\n",
       "    }\n",
       "</style>\n",
       "<table border=\"1\" class=\"dataframe\">\n",
       "  <thead>\n",
       "    <tr style=\"text-align: right;\">\n",
       "      <th></th>\n",
       "      <th>year</th>\n",
       "      <th>origin_country</th>\n",
       "      <th>origin_iso</th>\n",
       "      <th>asylum_country</th>\n",
       "      <th>asylum_iso</th>\n",
       "      <th>number_refugees</th>\n",
       "      <th>number_asylum</th>\n",
       "      <th>idps_concern</th>\n",
       "      <th>venezuelans_displaced</th>\n",
       "      <th>stateless</th>\n",
       "      <th>of_concern</th>\n",
       "    </tr>\n",
       "  </thead>\n",
       "  <tbody>\n",
       "    <tr>\n",
       "      <th>12776</th>\n",
       "      <td>2013</td>\n",
       "      <td>Afghanistan</td>\n",
       "      <td>AFG</td>\n",
       "      <td>Afghanistan</td>\n",
       "      <td>AFG</td>\n",
       "      <td>0</td>\n",
       "      <td>0</td>\n",
       "      <td>631286</td>\n",
       "      <td>NaN</td>\n",
       "      <td>0</td>\n",
       "      <td>275486</td>\n",
       "    </tr>\n",
       "    <tr>\n",
       "      <th>12777</th>\n",
       "      <td>2013</td>\n",
       "      <td>Iran (Islamic Rep. of)</td>\n",
       "      <td>IRN</td>\n",
       "      <td>Afghanistan</td>\n",
       "      <td>AFG</td>\n",
       "      <td>36</td>\n",
       "      <td>16</td>\n",
       "      <td>0</td>\n",
       "      <td>NaN</td>\n",
       "      <td>0</td>\n",
       "      <td>0</td>\n",
       "    </tr>\n",
       "    <tr>\n",
       "      <th>12778</th>\n",
       "      <td>2013</td>\n",
       "      <td>Pakistan</td>\n",
       "      <td>PAK</td>\n",
       "      <td>Afghanistan</td>\n",
       "      <td>AFG</td>\n",
       "      <td>16825</td>\n",
       "      <td>45</td>\n",
       "      <td>0</td>\n",
       "      <td>NaN</td>\n",
       "      <td>0</td>\n",
       "      <td>0</td>\n",
       "    </tr>\n",
       "    <tr>\n",
       "      <th>12779</th>\n",
       "      <td>2013</td>\n",
       "      <td>Egypt</td>\n",
       "      <td>EGY</td>\n",
       "      <td>Albania</td>\n",
       "      <td>ALB</td>\n",
       "      <td>5</td>\n",
       "      <td>0</td>\n",
       "      <td>0</td>\n",
       "      <td>NaN</td>\n",
       "      <td>0</td>\n",
       "      <td>0</td>\n",
       "    </tr>\n",
       "    <tr>\n",
       "      <th>12780</th>\n",
       "      <td>2013</td>\n",
       "      <td>China</td>\n",
       "      <td>CHN</td>\n",
       "      <td>Albania</td>\n",
       "      <td>ALB</td>\n",
       "      <td>12</td>\n",
       "      <td>0</td>\n",
       "      <td>0</td>\n",
       "      <td>NaN</td>\n",
       "      <td>0</td>\n",
       "      <td>0</td>\n",
       "    </tr>\n",
       "  </tbody>\n",
       "</table>\n",
       "</div>"
      ],
      "text/plain": [
       "       year          origin_country origin_iso asylum_country asylum_iso  \\\n",
       "12776  2013             Afghanistan        AFG    Afghanistan        AFG   \n",
       "12777  2013  Iran (Islamic Rep. of)        IRN    Afghanistan        AFG   \n",
       "12778  2013                Pakistan        PAK    Afghanistan        AFG   \n",
       "12779  2013                   Egypt        EGY        Albania        ALB   \n",
       "12780  2013                   China        CHN        Albania        ALB   \n",
       "\n",
       "       number_refugees  number_asylum  idps_concern  venezuelans_displaced  \\\n",
       "12776                0              0        631286                    NaN   \n",
       "12777               36             16             0                    NaN   \n",
       "12778            16825             45             0                    NaN   \n",
       "12779                5              0             0                    NaN   \n",
       "12780               12              0             0                    NaN   \n",
       "\n",
       "       stateless  of_concern  \n",
       "12776          0      275486  \n",
       "12777          0           0  \n",
       "12778          0           0  \n",
       "12779          0           0  \n",
       "12780          0           0  "
      ]
     },
     "execution_count": 38,
     "metadata": {},
     "output_type": "execute_result"
    }
   ],
   "source": [
    "data_2013 = data[data['year']==2013]\n",
    "data_2014 = data[data['year']==2014]\n",
    "data_2013.head()"
   ]
  },
  {
   "cell_type": "code",
   "execution_count": 40,
   "metadata": {},
   "outputs": [
    {
     "data": {
      "text/html": [
       "<div>\n",
       "<style scoped>\n",
       "    .dataframe tbody tr th:only-of-type {\n",
       "        vertical-align: middle;\n",
       "    }\n",
       "\n",
       "    .dataframe tbody tr th {\n",
       "        vertical-align: top;\n",
       "    }\n",
       "\n",
       "    .dataframe thead th {\n",
       "        text-align: right;\n",
       "    }\n",
       "</style>\n",
       "<table border=\"1\" class=\"dataframe\">\n",
       "  <thead>\n",
       "    <tr style=\"text-align: right;\">\n",
       "      <th></th>\n",
       "      <th>year</th>\n",
       "      <th>origin_country</th>\n",
       "      <th>origin_iso</th>\n",
       "      <th>asylum_country</th>\n",
       "      <th>asylum_iso</th>\n",
       "      <th>returned_refugees</th>\n",
       "      <th>returned_idpss</th>\n",
       "      <th>resettlement_arrivals</th>\n",
       "      <th>naturalisation</th>\n",
       "    </tr>\n",
       "  </thead>\n",
       "  <tbody>\n",
       "    <tr>\n",
       "      <th>1639</th>\n",
       "      <td>2013</td>\n",
       "      <td>Afghanistan</td>\n",
       "      <td>AFG</td>\n",
       "      <td>Afghanistan</td>\n",
       "      <td>AFG</td>\n",
       "      <td>NaN</td>\n",
       "      <td>21830.0</td>\n",
       "      <td>NaN</td>\n",
       "      <td>NaN</td>\n",
       "    </tr>\n",
       "    <tr>\n",
       "      <th>1640</th>\n",
       "      <td>2013</td>\n",
       "      <td>Palestinian</td>\n",
       "      <td>PSE</td>\n",
       "      <td>Algeria</td>\n",
       "      <td>DZA</td>\n",
       "      <td>5.0</td>\n",
       "      <td>NaN</td>\n",
       "      <td>NaN</td>\n",
       "      <td>NaN</td>\n",
       "    </tr>\n",
       "    <tr>\n",
       "      <th>1641</th>\n",
       "      <td>2013</td>\n",
       "      <td>Mali</td>\n",
       "      <td>MLI</td>\n",
       "      <td>Algeria</td>\n",
       "      <td>DZA</td>\n",
       "      <td>921.0</td>\n",
       "      <td>NaN</td>\n",
       "      <td>NaN</td>\n",
       "      <td>NaN</td>\n",
       "    </tr>\n",
       "    <tr>\n",
       "      <th>1642</th>\n",
       "      <td>2013</td>\n",
       "      <td>Rwanda</td>\n",
       "      <td>RWA</td>\n",
       "      <td>Angola</td>\n",
       "      <td>AGO</td>\n",
       "      <td>7.0</td>\n",
       "      <td>NaN</td>\n",
       "      <td>NaN</td>\n",
       "      <td>NaN</td>\n",
       "    </tr>\n",
       "    <tr>\n",
       "      <th>1643</th>\n",
       "      <td>2013</td>\n",
       "      <td>Ethiopia</td>\n",
       "      <td>ETH</td>\n",
       "      <td>Egypt</td>\n",
       "      <td>EGY</td>\n",
       "      <td>5.0</td>\n",
       "      <td>NaN</td>\n",
       "      <td>NaN</td>\n",
       "      <td>NaN</td>\n",
       "    </tr>\n",
       "  </tbody>\n",
       "</table>\n",
       "</div>"
      ],
      "text/plain": [
       "      year origin_country origin_iso asylum_country asylum_iso  \\\n",
       "1639  2013    Afghanistan        AFG    Afghanistan        AFG   \n",
       "1640  2013    Palestinian        PSE        Algeria        DZA   \n",
       "1641  2013           Mali        MLI        Algeria        DZA   \n",
       "1642  2013         Rwanda        RWA         Angola        AGO   \n",
       "1643  2013       Ethiopia        ETH          Egypt        EGY   \n",
       "\n",
       "      returned_refugees  returned_idpss  resettlement_arrivals  naturalisation  \n",
       "1639                NaN         21830.0                    NaN             NaN  \n",
       "1640                5.0             NaN                    NaN             NaN  \n",
       "1641              921.0             NaN                    NaN             NaN  \n",
       "1642                7.0             NaN                    NaN             NaN  \n",
       "1643                5.0             NaN                    NaN             NaN  "
      ]
     },
     "execution_count": 40,
     "metadata": {},
     "output_type": "execute_result"
    }
   ],
   "source": [
    "solutions_2013 = data_solutions[data_solutions['year'] ==2013]\n",
    "solutions_2013.head()"
   ]
  },
  {
   "cell_type": "code",
   "execution_count": 5,
   "metadata": {},
   "outputs": [
    {
     "name": "stderr",
     "output_type": "stream",
     "text": [
      "/Users/yunyunwang/opt/anaconda3/lib/python3.8/site-packages/pandas/core/indexing.py:966: SettingWithCopyWarning: \n",
      "A value is trying to be set on a copy of a slice from a DataFrame.\n",
      "Try using .loc[row_indexer,col_indexer] = value instead\n",
      "\n",
      "See the caveats in the documentation: https://pandas.pydata.org/pandas-docs/stable/user_guide/indexing.html#returning-a-view-versus-a-copy\n",
      "  self.obj[item] = s\n"
     ]
    }
   ],
   "source": [
    "# data_2013['origin_country'].replace('Syrian Arab Rep.', 'Syria')\n",
    "data_2013.loc[:, 'origin_country']=data_2013.loc[:, 'origin_country'].replace({'Syrian Arab Rep.':'Syria', 'Russian Federation': 'Russia', 'Iran (Islamic Rep. of)': 'Iran', 'United Kingdom of Great Britain and Northern Ireland': 'United Kingdom', 'Viet Nam': 'Vietnam', 'Palestinian': 'Palestine', 'Rep. of Korea': 'South Korea', \"Dem. People's Rep. of Korea\": \"North Korea\", 'Bolivia (Plurinational State of)': 'Bolivia', 'China, Hong Kong SAR': 'Hong Kong', 'Denmark': 'Greenland', 'Rep. of Moldova': 'Moldova', 'United Rep. of Tanzania': 'Tanzania', 'Eswatini': 'eSwatini', \"Cote d'Ivoire\": \"Côte d'Ivoire\", 'Serbia and Kosovo: S/RES/1244 (1999)': 'Serbia', 'Venezuela (Bolivarian Republic of)': 'Venezuela', 'Dem. Rep. of the Congo': 'Dem. Rep. Congo', \"Lao People's Dem. Rep.\": 'Laos'})\n",
    "\n",
    "data_2014.loc[:, 'origin_country']=data_2014.loc[:, 'origin_country'].replace({'Syrian Arab Rep.':'Syria', 'Russian Federation': 'Russia', 'Iran (Islamic Rep. of)': 'Iran', 'United Kingdom of Great Britain and Northern Ireland': 'United Kingdom', 'Viet Nam': 'Vietnam', 'Palestinian': 'Palestine', 'Rep. of Korea': 'South Korea', \"Dem. People's Rep. of Korea\": \"North Korea\", 'Bolivia (Plurinational State of)': 'Bolivia', 'China, Hong Kong SAR': 'Hong Kong', 'Denmark': 'Greenland', 'Rep. of Moldova': 'Moldova', 'United Rep. of Tanzania': 'Tanzania', 'Eswatini': 'eSwatini', \"Cote d'Ivoire\": \"Côte d'Ivoire\", 'Serbia and Kosovo: S/RES/1244 (1999)': 'Serbia', 'Venezuela (Bolivarian Republic of)': 'Venezuela', 'Dem. Rep. of the Congo': 'Dem. Rep. Congo', \"Lao People's Dem. Rep.\": 'Laos'})\n",
    "\n",
    "\n"
   ]
  },
  {
   "cell_type": "code",
   "execution_count": 41,
   "metadata": {},
   "outputs": [
    {
     "name": "stderr",
     "output_type": "stream",
     "text": [
      "/Users/yunyunwang/opt/anaconda3/lib/python3.8/site-packages/pandas/core/indexing.py:966: SettingWithCopyWarning: \n",
      "A value is trying to be set on a copy of a slice from a DataFrame.\n",
      "Try using .loc[row_indexer,col_indexer] = value instead\n",
      "\n",
      "See the caveats in the documentation: https://pandas.pydata.org/pandas-docs/stable/user_guide/indexing.html#returning-a-view-versus-a-copy\n",
      "  self.obj[item] = s\n"
     ]
    }
   ],
   "source": [
    "solutions_2013.loc[:, 'origin_country']=solutions_2013.loc[:, 'origin_country'].replace({'Syrian Arab Rep.':'Syria', 'Russian Federation': 'Russia', 'Iran (Islamic Rep. of)': 'Iran', 'United Kingdom of Great Britain and Northern Ireland': 'United Kingdom', 'Viet Nam': 'Vietnam', 'Palestinian': 'Palestine', 'Rep. of Korea': 'South Korea', \"Dem. People's Rep. of Korea\": \"North Korea\", 'Bolivia (Plurinational State of)': 'Bolivia', 'China, Hong Kong SAR': 'Hong Kong', 'Denmark': 'Greenland', 'Rep. of Moldova': 'Moldova', 'United Rep. of Tanzania': 'Tanzania', 'Eswatini': 'eSwatini', \"Cote d'Ivoire\": \"Côte d'Ivoire\", 'Serbia and Kosovo: S/RES/1244 (1999)': 'Serbia', 'Venezuela (Bolivarian Republic of)': 'Venezuela', 'Dem. Rep. of the Congo': 'Dem. Rep. Congo', \"Lao People's Dem. Rep.\": 'Laos'})\n",
    "\n"
   ]
  },
  {
   "cell_type": "code",
   "execution_count": 6,
   "metadata": {},
   "outputs": [
    {
     "data": {
      "text/plain": [
       "pandas.core.series.Series"
      ]
     },
     "execution_count": 6,
     "metadata": {},
     "output_type": "execute_result"
    }
   ],
   "source": [
    "type(data_2013['origin_country'])"
   ]
  },
  {
   "cell_type": "code",
   "execution_count": 7,
   "metadata": {},
   "outputs": [
    {
     "data": {
      "text/plain": [
       "12776    Afghanistan\n",
       "12777           Iran\n",
       "12778       Pakistan\n",
       "12779          Egypt\n",
       "12780          China\n",
       "            ...     \n",
       "17332           Cuba\n",
       "17333       Colombia\n",
       "17334           Cuba\n",
       "17335        Jamaica\n",
       "17336           Iran\n",
       "Name: origin_country, Length: 4561, dtype: object"
      ]
     },
     "execution_count": 7,
     "metadata": {},
     "output_type": "execute_result"
    }
   ],
   "source": [
    "data_2013['origin_country']"
   ]
  },
  {
   "cell_type": "code",
   "execution_count": 43,
   "metadata": {},
   "outputs": [
    {
     "data": {
      "text/plain": [
       "1639               Afghanistan\n",
       "1640                 Palestine\n",
       "1641                      Mali\n",
       "1642                    Rwanda\n",
       "1643                  Ethiopia\n",
       "                 ...          \n",
       "2136                    Angola\n",
       "2137                   Burundi\n",
       "2138           Dem. Rep. Congo\n",
       "2139    Bosnia and Herzegovina\n",
       "2140                      Iraq\n",
       "Name: origin_country, Length: 502, dtype: object"
      ]
     },
     "execution_count": 43,
     "metadata": {},
     "output_type": "execute_result"
    }
   ],
   "source": [
    "solutions_2013['origin_country']"
   ]
  },
  {
   "cell_type": "code",
   "execution_count": 44,
   "metadata": {},
   "outputs": [],
   "source": [
    "data['origin_country']\n",
    "# countries_dict = defaultdict(list)\n",
    "# print(countries_dict.keys())\n",
    "countries_dict = []\n"
   ]
  },
  {
   "cell_type": "code",
   "execution_count": 51,
   "metadata": {},
   "outputs": [
    {
     "name": "stdout",
     "output_type": "stream",
     "text": [
      "{'Cabo Verde', 'Grenada', 'Ireland', 'China, Macao SAR', 'Bolivia (Plurinational State of)', 'Turkmenistan', 'Sweden', 'Japan', 'Mauritius', 'Thailand', 'Niger', 'Sri Lanka', 'Denmark', 'Jordan', 'Iraq', 'Czechia', 'Armenia', 'Dem. Rep. of the Congo', 'Nicaragua', 'Rwanda', 'Mongolia', 'Bosnia and Herzegovina', 'Bahamas', 'Ethiopia', 'United Arab Emirates', 'Togo', 'Guyana', 'Uruguay', 'Curacao ', 'Honduras', 'Colombia', 'Rep. of Korea', 'China, Hong Kong SAR', 'Tonga', 'Seychelles', 'Singapore', 'Slovakia', 'Saint Kitts and Nevis', 'Nepal', 'Peru', 'Ukraine', 'Equatorial Guinea', 'Oman', 'Belarus', 'Antigua and Barbuda', 'Cameroon', 'Lesotho', 'Netherlands', 'Georgia', 'Turkey', 'Haiti', 'Finland', 'Andorra', 'South Africa', 'Angola', 'Argentina', 'Norway', 'Burkina Faso', 'Sao Tome and Principe', 'Comoros', 'Kyrgyzstan', 'Saint Vincent and the Grenadines', 'Azerbaijan', \"Lao People's Dem. Rep.\", 'Myanmar', 'Unknown ', 'India', 'Benin', 'Hungary', 'Namibia', 'Brazil', 'New Zealand', 'Belize', \"Cote d'Ivoire\", 'Indonesia', 'Chile', 'Dominica', 'Liberia', 'Ghana', 'Canada', 'Nigeria', 'Pakistan', 'Libya', 'Somalia', 'Kenya', 'Stateless', 'Afghanistan', 'Viet Nam', 'Saudi Arabia', 'Yemen', 'Switzerland', 'Tajikistan', 'Burundi', 'Bhutan', 'Guatemala', 'Qatar', 'Italy', 'Mozambique', 'Bahrain', 'Malawi', 'Slovenia', 'China', 'Russian Federation', 'Uganda', 'Rep. of Moldova', 'Eritrea', 'Guinea-Bissau', 'Syrian Arab Rep.', 'Tunisia', 'Germany', 'Turks and Caicos Islands', 'Palestinian', 'Eswatini', 'Austria', 'Sierra Leone', 'Dominican Rep.', 'France', 'Maldives', 'Albania', 'Greece', 'United Rep. of Tanzania', 'Australia', 'Monaco', 'Papua New Guinea', 'Samoa', 'Kiribati', 'Malta', 'Niue', 'North Macedonia', 'Poland', 'Cuba', 'Timor-Leste', 'Panama', 'Iceland', 'Fiji', 'Mauritania', 'Egypt', 'Israel', 'Kazakhstan', 'Morocco', 'Ecuador', 'Botswana', 'El Salvador', 'Suriname', 'South Sudan', 'Lebanon', 'Romania', 'Portugal', 'Belgium', 'Latvia', 'Cyprus', 'Bulgaria', 'Lithuania', 'Congo', 'Barbados', 'Costa Rica', 'Serbia and Kosovo: S/RES/1244 (1999)', 'Western Sahara', 'Chad', 'Montenegro', 'Cayman Islands', 'Paraguay', 'Trinidad and Tobago', 'Sudan', 'Jamaica', 'Marshall Islands', 'Cambodia', 'Iran (Islamic Rep. of)', 'Malaysia', 'Djibouti', 'Gabon', 'Spain', 'United Kingdom of Great Britain and Northern Ireland', 'Zambia', 'Central African Rep.', 'Gambia', 'Saint Lucia', \"Dem. People's Rep. of Korea\", 'Algeria', 'Croatia', 'Uzbekistan', 'Estonia', 'Palau', 'Guinea', 'Zimbabwe', 'Philippines', 'Kuwait', 'Mali', 'Solomon Islands', 'Venezuela (Bolivarian Republic of)', 'Tibetan', 'Mexico', 'United States of America', 'Bangladesh', 'Madagascar', 'Senegal'}\n"
     ]
    }
   ],
   "source": [
    "#unique countries \n",
    "origin_set = set()\n",
    "origin_set_2014 = set()\n",
    "#print(type(origin_set))\n",
    "for origin in (data_2013[\"origin_country\"]):\n",
    "    origin_set.add(origin)\n",
    "    \n",
    "for origin in (data_2014[\"origin_country\"]):\n",
    "    origin_set_2014.add(origin)\n",
    "    \n",
    "print(origin_set)"
   ]
  },
  {
   "cell_type": "code",
   "execution_count": 54,
   "metadata": {},
   "outputs": [
    {
     "name": "stdout",
     "output_type": "stream",
     "text": [
      "{'Moldova', 'Turkmenistan', 'Thailand', 'Niger', 'Sri Lanka', 'Jordan', 'Iraq', 'Palestine', 'Armenia', 'Rwanda', 'Bosnia and Herzegovina', 'Ethiopia', \"Côte d'Ivoire\", 'Togo', 'Colombia', 'Nepal', 'Ukraine', 'Equatorial Guinea', 'Vietnam', 'Belarus', 'Cameroon', 'Georgia', 'Turkey', 'Haiti', 'South Africa', 'Angola', 'Burkina Faso', 'Kyrgyzstan', 'Azerbaijan', 'Myanmar', 'Unknown ', 'India', 'Namibia', 'Indonesia', 'Ghana', 'Liberia', 'Nigeria', 'Pakistan', 'Somalia', 'Libya', 'Kenya', 'Stateless', 'Afghanistan', 'Saudi Arabia', 'Syria', 'Yemen', 'Tajikistan', 'Burundi', 'Bhutan', 'Guatemala', 'Malawi', 'Mozambique', 'China', 'Tanzania', 'Uganda', 'Eritrea', 'Tunisia', 'North Korea', 'Sierra Leone', 'Albania', 'Greece', 'Russia', 'Cuba', 'Mauritania', 'Egypt', 'Israel', 'Dem. Rep. Congo', 'Kazakhstan', 'Morocco', 'Ecuador', 'Botswana', 'El Salvador', 'South Sudan', 'Lebanon', 'Romania', 'Belgium', 'Congo', 'Iran', 'Serbia', 'Chad', 'Venezuela', 'Sudan', 'Cambodia', 'Malaysia', 'Djibouti', 'Zambia', 'Central African Rep.', 'Gambia', 'Algeria', 'Croatia', 'Uzbekistan', 'Guinea', 'Zimbabwe', 'Philippines', 'Kuwait', 'Mali', 'Senegal'}\n"
     ]
    }
   ],
   "source": [
    "#solutions origins set \n",
    "soln_origin_set = set()\n",
    "\n",
    "#print(type(origin_set))\n",
    "for origin in (solutions_2013[\"origin_country\"]):\n",
    "    soln_origin_set.add(origin)\n",
    "\n",
    "print(soln_origin_set)"
   ]
  },
  {
   "cell_type": "code",
   "execution_count": 11,
   "metadata": {},
   "outputs": [],
   "source": [
    "# for i, country in enumerate(data_2013['origin_country']):\n",
    "#     if country not in countries_dict[0]['country']:\n",
    "#         countries_dict[0]['country']= country\n",
    "#         print((countries_dict))\n",
    "    \n",
    "#         asylum_stats = {'asylum_country': data_2013['asylum_country'], 'number_refugees': data_2013['number_refugees'], 'number_asylum': data_2013['number_asylum']}\n",
    "#         countries_dict[1]['destination'] = asylum_stats\n",
    "        \n",
    "#         #print(type(asylum_stats))\n",
    "        \n",
    "\n",
    "# #display(countries_dict[0])\n",
    "# countries_dict = [{'country': ''}, {'destination':''}]"
   ]
  },
  {
   "cell_type": "code",
   "execution_count": 30,
   "metadata": {},
   "outputs": [
    {
     "name": "stdout",
     "output_type": "stream",
     "text": [
      "{'country': 'United Kingdom', 'destination_countries': ['Australia', 'Canada', 'United Kingdom of Great Britain and Northern Ireland', 'Germany', 'Sweden', 'United States of America'], 'destination_refugees': [5.0, 69.0, 0.0, 8.0, 6.0, 52.0], 'destination_pairs': [('Australia', 5.0), ('Canada', 69.0), ('United Kingdom of Great Britain and Northern Ireland', 0.0), ('Germany', 8.0), ('Sweden', 6.0), ('United States of America', 52.0)], 'destination_a': [{'Australia': 10.0}, {'Canada': 10.0}, {'United Kingdom of Great Britain and Northern Ireland': 9.0}, {'Germany': 0.0}, {'Sweden': 0.0}, {'United States of America': 37.0}], 'totals': [{'total_refugees': 140.0, 'total_asylum': 66.0}]}\n"
     ]
    }
   ],
   "source": [
    "countries_dict=[]\n",
    "for i, origin in enumerate(origin_set):\n",
    "    countries_dict.append({\"country\": origin, \"destination_countries\": [], \"destination_refugees\": [] , \"destination_pairs\": [], \"destination_a\": [], \"totals\": [] })\n",
    "    #print(countries_dict[i]['destination'])\n",
    "   \n",
    "    origin_data = data_2013[data_2013['origin_country']==origin]\n",
    "   \n",
    "    total_refugees = 0.0\n",
    "    total_asylum = 0.0\n",
    "    \n",
    "    for j, asylum in enumerate(origin_data['asylum_country']):\n",
    "        \n",
    "        countries_dict[i][\"destination_countries\"].append(asylum)\n",
    "        countries_dict[i][\"destination_refugees\"].append((float(origin_data[\"number_refugees\"].iloc[j])))\n",
    "        \n",
    "        countries_dict[i][\"destination_pairs\"].append((asylum, float(origin_data[\"number_refugees\"].iloc[j])))\n",
    "        countries_dict[i][\"destination_a\"].append({asylum: (float(origin_data[\"number_asylum\"].iloc[j]))})\n",
    "        \n",
    "        total_refugees+= float(origin_data[\"number_refugees\"].iloc[j])\n",
    "        \n",
    "        total_asylum+= float(origin_data[\"number_asylum\"].iloc[j])\n",
    "        \n",
    "        #print(origin_data['number_refugees'].iloc[j])\n",
    "        \n",
    "    countries_dict[i][\"totals\"].append({\"total_refugees\": total_refugees, \"total_asylum\": total_asylum})\n",
    "\n",
    "\n",
    "print(countries_dict[0])\n",
    "\n"
   ]
  },
  {
   "cell_type": "code",
   "execution_count": 55,
   "metadata": {},
   "outputs": [
    {
     "data": {
      "text/html": [
       "<div>\n",
       "<style scoped>\n",
       "    .dataframe tbody tr th:only-of-type {\n",
       "        vertical-align: middle;\n",
       "    }\n",
       "\n",
       "    .dataframe tbody tr th {\n",
       "        vertical-align: top;\n",
       "    }\n",
       "\n",
       "    .dataframe thead th {\n",
       "        text-align: right;\n",
       "    }\n",
       "</style>\n",
       "<table border=\"1\" class=\"dataframe\">\n",
       "  <thead>\n",
       "    <tr style=\"text-align: right;\">\n",
       "      <th></th>\n",
       "      <th>year</th>\n",
       "      <th>origin_country</th>\n",
       "      <th>origin_iso</th>\n",
       "      <th>asylum_country</th>\n",
       "      <th>asylum_iso</th>\n",
       "      <th>returned_refugees</th>\n",
       "      <th>returned_idpss</th>\n",
       "      <th>resettlement_arrivals</th>\n",
       "      <th>naturalisation</th>\n",
       "    </tr>\n",
       "  </thead>\n",
       "  <tbody>\n",
       "    <tr>\n",
       "      <th>1639</th>\n",
       "      <td>2013</td>\n",
       "      <td>Afghanistan</td>\n",
       "      <td>AFG</td>\n",
       "      <td>Afghanistan</td>\n",
       "      <td>AFG</td>\n",
       "      <td>NaN</td>\n",
       "      <td>21830.0</td>\n",
       "      <td>NaN</td>\n",
       "      <td>NaN</td>\n",
       "    </tr>\n",
       "    <tr>\n",
       "      <th>1640</th>\n",
       "      <td>2013</td>\n",
       "      <td>Palestine</td>\n",
       "      <td>PSE</td>\n",
       "      <td>Algeria</td>\n",
       "      <td>DZA</td>\n",
       "      <td>5.0</td>\n",
       "      <td>NaN</td>\n",
       "      <td>NaN</td>\n",
       "      <td>NaN</td>\n",
       "    </tr>\n",
       "    <tr>\n",
       "      <th>1641</th>\n",
       "      <td>2013</td>\n",
       "      <td>Mali</td>\n",
       "      <td>MLI</td>\n",
       "      <td>Algeria</td>\n",
       "      <td>DZA</td>\n",
       "      <td>921.0</td>\n",
       "      <td>NaN</td>\n",
       "      <td>NaN</td>\n",
       "      <td>NaN</td>\n",
       "    </tr>\n",
       "    <tr>\n",
       "      <th>1642</th>\n",
       "      <td>2013</td>\n",
       "      <td>Rwanda</td>\n",
       "      <td>RWA</td>\n",
       "      <td>Angola</td>\n",
       "      <td>AGO</td>\n",
       "      <td>7.0</td>\n",
       "      <td>NaN</td>\n",
       "      <td>NaN</td>\n",
       "      <td>NaN</td>\n",
       "    </tr>\n",
       "    <tr>\n",
       "      <th>1643</th>\n",
       "      <td>2013</td>\n",
       "      <td>Ethiopia</td>\n",
       "      <td>ETH</td>\n",
       "      <td>Egypt</td>\n",
       "      <td>EGY</td>\n",
       "      <td>5.0</td>\n",
       "      <td>NaN</td>\n",
       "      <td>NaN</td>\n",
       "      <td>NaN</td>\n",
       "    </tr>\n",
       "  </tbody>\n",
       "</table>\n",
       "</div>"
      ],
      "text/plain": [
       "      year origin_country origin_iso asylum_country asylum_iso  \\\n",
       "1639  2013    Afghanistan        AFG    Afghanistan        AFG   \n",
       "1640  2013      Palestine        PSE        Algeria        DZA   \n",
       "1641  2013           Mali        MLI        Algeria        DZA   \n",
       "1642  2013         Rwanda        RWA         Angola        AGO   \n",
       "1643  2013       Ethiopia        ETH          Egypt        EGY   \n",
       "\n",
       "      returned_refugees  returned_idpss  resettlement_arrivals  naturalisation  \n",
       "1639                NaN         21830.0                    NaN             NaN  \n",
       "1640                5.0             NaN                    NaN             NaN  \n",
       "1641              921.0             NaN                    NaN             NaN  \n",
       "1642                7.0             NaN                    NaN             NaN  \n",
       "1643                5.0             NaN                    NaN             NaN  "
      ]
     },
     "execution_count": 55,
     "metadata": {},
     "output_type": "execute_result"
    }
   ],
   "source": [
    "solutions_2013.head()"
   ]
  },
  {
   "cell_type": "code",
   "execution_count": 61,
   "metadata": {},
   "outputs": [],
   "source": [
    "countries_solutions_dict = []\n",
    "\n",
    "for i, origin in enumerate(soln_origin_set):\n",
    "    countries_solutions_dict.append({\"country\": origin, \"destination_countries\": [], \"returned_refugees\": [] , \"resettlement\": [], \"naturalized\": [] })\n",
    "    #print(countries_dict[i]['destination'])\n",
    "   \n",
    "    origin_data = solutions_2013[solutions_2013['origin_country']==origin]\n",
    "   \n",
    "    total_returned = 0.0\n",
    "    total_resettled = 0.0\n",
    "    total_naturalized = 0.0\n",
    "    \n",
    "    for j, asylum in enumerate(origin_data['asylum_country']):\n",
    "        \n",
    "        countries_solutions_dict[i][\"destination_countries\"].append(asylum)\n",
    "#         countries_dict[i][\"returned_refugees\"].append((float(origin_data[\"number_refugees\"].iloc[j])))\n",
    "        \n",
    "#         countries_dict[i][\"destination_pairs\"].append((asylum, float(origin_data[\"number_refugees\"].iloc[j])))\n",
    "#         countries_dict[i][\"destination_a\"].append({asylum: (float(origin_data[\"number_asylum\"].iloc[j]))})\n",
    "        if origin_data[\"returned_refugees\"].iloc[j] >0:\n",
    "            total_returned+= float(origin_data[\"returned_refugees\"].iloc[j])\n",
    "        \n",
    "        if origin_data[\"resettlement_arrivals\"].iloc[j] >0:\n",
    "        \n",
    "            total_resettled+= float(origin_data[\"resettlement_arrivals\"].iloc[j])\n",
    "        \n",
    "        if origin_data['naturalisation'].iloc[j] >0:\n",
    "        \n",
    "            total_naturalized+=float(origin_data['naturalisation'].iloc[j])\n",
    "        \n",
    "        #print(origin_data['number_refugees'].iloc[j])\n",
    "        \n",
    "    #countries_solutions_dict[i][\"totals\"].append({\"total_refugees\": total_refugees, \"total_asylum\": total_asylum})\n",
    "\n",
    "    countries_solutions_dict[i]['returned_refugees'] = total_returned\n",
    "    \n",
    "    countries_solutions_dict[i]['resettlement'] = total_resettled\n",
    "    countries_solutions_dict[i]['naturalized'] = total_naturalized\n",
    "    \n"
   ]
  },
  {
   "cell_type": "code",
   "execution_count": 62,
   "metadata": {},
   "outputs": [
    {
     "name": "stdout",
     "output_type": "stream",
     "text": [
      "[{'country': 'Moldova', 'destination_countries': ['Ireland', 'United States of America'], 'returned_refugees': 0.0, 'resettlement': 75.0, 'naturalized': 14.0}, {'country': 'Turkmenistan', 'destination_countries': ['United States of America'], 'returned_refugees': 0.0, 'resettlement': 8.0, 'naturalized': 0.0}, {'country': 'Thailand', 'destination_countries': ['Australia', 'United States of America'], 'returned_refugees': 0.0, 'resettlement': 397.0, 'naturalized': 0.0}, {'country': 'Niger', 'destination_countries': ['Belgium'], 'returned_refugees': 0.0, 'resettlement': 0.0, 'naturalized': 12.0}, {'country': 'Sri Lanka', 'destination_countries': ['Australia', 'Belgium', 'Canada', 'Finland', 'France', 'India', 'Sri Lanka', 'Malaysia', 'Netherlands', 'New Zealand', 'Sweden', 'United States of America'], 'returned_refugees': 913.0, 'resettlement': 337.0, 'naturalized': 38.0}, {'country': 'Jordan', 'destination_countries': ['Australia', 'Canada', 'United States of America'], 'returned_refugees': 0.0, 'resettlement': 84.0, 'naturalized': 0.0}, {'country': 'Iraq', 'destination_countries': ['Egypt', 'Australia', 'Belgium', 'Canada', 'Denmark', 'Finland', 'United Kingdom of Great Britain and Northern Ireland', 'Germany', 'Ireland', 'Iran (Islamic Rep. of)', 'Iraq', 'Jordan', 'Kuwait', 'Libya', 'Lebanon', 'Malaysia', 'Netherlands', 'Norway', 'New Zealand', 'Oman', 'Sweden', 'Syrian Arab Rep.', 'Turkey', 'United Arab Emirates', 'United States of America', 'Yemen', 'Unknown '], 'returned_refugees': 60880.0, 'resettlement': 26328.0, 'naturalized': 416.0}, {'country': 'Palestine', 'destination_countries': ['Algeria', 'Belgium', 'Canada', 'Ireland', 'New Zealand', 'Philippines', 'United States of America'], 'returned_refugees': 5.0, 'resettlement': 212.0, 'naturalized': 14.0}, {'country': 'Armenia', 'destination_countries': ['Belgium', 'Ireland', 'United States of America'], 'returned_refugees': 0.0, 'resettlement': 5.0, 'naturalized': 20.0}, {'country': 'Rwanda', 'destination_countries': ['Angola', 'Australia', 'Burundi', 'Belgium', 'Benin', 'Canada', 'Central African Rep.', 'Congo', 'Dem. Rep. of the Congo', 'Denmark', 'France', 'Malawi', 'Norway', 'Sweden', 'Uganda', 'United States of America'], 'returned_refugees': 7796.0, 'resettlement': 260.0, 'naturalized': 292.0}, {'country': 'Bosnia and Herzegovina', 'destination_countries': ['Austria', 'Belgium', 'Bosnia and Herzegovina', 'France', 'Germany', 'Croatia', 'Montenegro', 'Netherlands', 'Slovenia', 'Sweden', 'Switzerland', 'United States of America', 'Unknown '], 'returned_refugees': 126.0, 'resettlement': 0.0, 'naturalized': 251.0}, {'country': 'Ethiopia', 'destination_countries': ['Egypt', 'Australia', 'Belgium', 'Canada', 'Denmark', 'France', 'United Kingdom of Great Britain and Northern Ireland', 'Ireland', 'Netherlands', 'Norway', 'Somalia', 'South Sudan', 'Sweden', 'United States of America', 'Yemen'], 'returned_refugees': 30.0, 'resettlement': 1777.0, 'naturalized': 22.0}, {'country': \"Côte d'Ivoire\", 'destination_countries': ['Egypt', 'Australia', 'Belgium', 'Benin', 'Canada', 'Cameroon', 'Denmark', 'France', 'Gambia', 'Ghana', 'Guinea', \"Cote d'Ivoire\", 'Ireland', 'Liberia', 'Mali', 'Morocco', 'Togo', 'United States of America'], 'returned_refugees': 20021.0, 'resettlement': 49.0, 'naturalized': 123.0}, {'country': 'Togo', 'destination_countries': ['Belgium', 'Benin', 'Ghana', 'Ireland', 'Mauritania', 'United States of America'], 'returned_refugees': 113.0, 'resettlement': 15.0, 'naturalized': 3312.0}, {'country': 'Colombia', 'destination_countries': ['Belgium', 'Brazil', 'Canada', 'Denmark', 'Mexico', 'Norway', 'New Zealand', 'Sweden', 'Uruguay', 'United States of America'], 'returned_refugees': 13.0, 'resettlement': 966.0, 'naturalized': 11.0}, {'country': 'Nepal', 'destination_countries': ['Australia', 'Belgium', 'New Zealand', 'United States of America'], 'returned_refugees': 0.0, 'resettlement': 493.0, 'naturalized': 6.0}, {'country': 'Ukraine', 'destination_countries': ['United States of America'], 'returned_refugees': 0.0, 'resettlement': 209.0, 'naturalized': 0.0}, {'country': 'Equatorial Guinea', 'destination_countries': ['Benin', 'Canada'], 'returned_refugees': 0.0, 'resettlement': 9.0, 'naturalized': 5.0}, {'country': 'Vietnam', 'destination_countries': ['United States of America'], 'returned_refugees': 0.0, 'resettlement': 63.0, 'naturalized': 0.0}, {'country': 'Belarus', 'destination_countries': ['Belgium', 'Ireland'], 'returned_refugees': 0.0, 'resettlement': 0.0, 'naturalized': 15.0}, {'country': 'Cameroon', 'destination_countries': ['Belgium', 'Ireland'], 'returned_refugees': 0.0, 'resettlement': 0.0, 'naturalized': 98.0}, {'country': 'Georgia', 'destination_countries': ['Ireland'], 'returned_refugees': 0.0, 'resettlement': 0.0, 'naturalized': 13.0}, {'country': 'Turkey', 'destination_countries': ['Belgium', 'Canada'], 'returned_refugees': 0.0, 'resettlement': 16.0, 'naturalized': 38.0}, {'country': 'Haiti', 'destination_countries': ['Canada'], 'returned_refugees': 0.0, 'resettlement': 84.0, 'naturalized': 0.0}, {'country': 'South Africa', 'destination_countries': ['Canada'], 'returned_refugees': 0.0, 'resettlement': 5.0, 'naturalized': 0.0}, {'country': 'Angola', 'destination_countries': ['Belgium', 'Botswana', 'Ireland', 'Namibia', 'South Africa', 'United States of America', 'Zambia'], 'returned_refugees': 1665.0, 'resettlement': 6.0, 'naturalized': 18.0}, {'country': 'Burkina Faso', 'destination_countries': ['Belgium'], 'returned_refugees': 0.0, 'resettlement': 0.0, 'naturalized': 10.0}, {'country': 'Kyrgyzstan', 'destination_countries': ['United States of America'], 'returned_refugees': 0.0, 'resettlement': 7.0, 'naturalized': 0.0}, {'country': 'Azerbaijan', 'destination_countries': ['Armenia', 'United States of America'], 'returned_refugees': 0.0, 'resettlement': 5.0, 'naturalized': 108.0}, {'country': 'Myanmar', 'destination_countries': ['Australia', 'Bangladesh', 'Cambodia', 'Canada', 'Finland', 'Japan', 'Myanmar', 'Netherlands', 'Norway', 'New Zealand', 'Sweden', 'Thailand', 'United States of America'], 'returned_refugees': 3010.0, 'resettlement': 16942.0, 'naturalized': 0.0}, {'country': 'Unknown ', 'destination_countries': ['Belgium', 'Canada', 'Slovakia', 'United States of America'], 'returned_refugees': 0.0, 'resettlement': 42.0, 'naturalized': 14868.0}, {'country': 'India', 'destination_countries': ['Australia', 'Canada', 'United States of America'], 'returned_refugees': 0.0, 'resettlement': 108.0, 'naturalized': 0.0}, {'country': 'Namibia', 'destination_countries': ['Botswana', 'Sweden'], 'returned_refugees': 28.0, 'resettlement': 13.0, 'naturalized': 0.0}, {'country': 'Indonesia', 'destination_countries': ['Australia', 'United States of America'], 'returned_refugees': 0.0, 'resettlement': 12.0, 'naturalized': 0.0}, {'country': 'Ghana', 'destination_countries': ['Australia', 'Ireland'], 'returned_refugees': 0.0, 'resettlement': 12.0, 'naturalized': 5.0}, {'country': 'Liberia', 'destination_countries': ['Australia', 'Belgium', 'Canada', 'Ghana', 'Guinea', \"Cote d'Ivoire\", 'Ireland', 'Sierra Leone', 'United States of America'], 'returned_refugees': 83.0, 'resettlement': 115.0, 'naturalized': 308.0}, {'country': 'Nigeria', 'destination_countries': ['Belgium', 'Benin', 'Canada', 'Ireland', 'United States of America'], 'returned_refugees': 16.0, 'resettlement': 11.0, 'naturalized': 49.0}, {'country': 'Pakistan', 'destination_countries': ['Australia', 'Belgium', 'Canada', 'Finland', 'France', 'Ireland', 'Netherlands', 'Pakistan', 'Sweden', 'United States of America'], 'returned_refugees': 0.0, 'resettlement': 687.0, 'naturalized': 50.0}, {'country': 'Somalia', 'destination_countries': ['Australia', 'Belgium', 'Canada', 'Denmark', 'Djibouti', 'Ethiopia', 'Finland', 'United Kingdom of Great Britain and Northern Ireland', 'Ireland', 'Norway', 'Somalia', 'Sudan', 'Sweden', 'United States of America', 'Yemen'], 'returned_refugees': 7272.0, 'resettlement': 10203.0, 'naturalized': 125.0}, {'country': 'Libya', 'destination_countries': ['Belgium', 'Canada', 'Libya'], 'returned_refugees': 0.0, 'resettlement': 11.0, 'naturalized': 5.0}, {'country': 'Kenya', 'destination_countries': ['Australia', 'Belgium', 'Canada', 'Ireland', 'United States of America'], 'returned_refugees': 0.0, 'resettlement': 110.0, 'naturalized': 11.0}, {'country': 'Stateless', 'destination_countries': ['Canada', 'Denmark', 'Finland', 'Norway', 'Sweden'], 'returned_refugees': 0.0, 'resettlement': 235.0, 'naturalized': 0.0}, {'country': 'Afghanistan', 'destination_countries': ['Afghanistan', 'Australia', 'Azerbaijan', 'Belgium', 'Belarus', 'Canada', 'Finland', 'France', 'India', 'Ireland', 'Iran (Islamic Rep. of)', 'Kazakhstan', 'Kyrgyzstan', 'Norway', 'New Zealand', 'Pakistan', 'Russian Federation', 'Sweden', 'Tajikistan', 'United States of America'], 'returned_refugees': 39665.0, 'resettlement': 4719.0, 'naturalized': 152.0}, {'country': 'Saudi Arabia', 'destination_countries': ['Australia', 'Canada'], 'returned_refugees': 0.0, 'resettlement': 14.0, 'naturalized': 0.0}, {'country': 'Syria', 'destination_countries': ['Armenia', 'Australia', 'Belgium', 'Canada', 'Dominican Rep.', 'Ireland', 'Netherlands', 'Sweden', 'Turkey', 'United States of America'], 'returned_refugees': 140761.0, 'resettlement': 607.0, 'naturalized': 71.0}, {'country': 'Yemen', 'destination_countries': ['Canada', 'Syrian Arab Rep.', 'United States of America', 'Yemen'], 'returned_refugees': 5.0, 'resettlement': 16.0, 'naturalized': 0.0}, {'country': 'Tajikistan', 'destination_countries': ['Sweden', 'United States of America'], 'returned_refugees': 0.0, 'resettlement': 16.0, 'naturalized': 0.0}, {'country': 'Burundi', 'destination_countries': ['Australia', 'Belgium', 'Benin', 'Canada', 'Congo', 'Dem. Rep. of the Congo', \"Cote d'Ivoire\", 'Kenya', 'Malawi', 'Norway', 'South Africa', 'Sweden', 'United Rep. of Tanzania', 'Uganda', 'United States of America', 'Zambia'], 'returned_refugees': 2124.0, 'resettlement': 275.0, 'naturalized': 74.0}, {'country': 'Bhutan', 'destination_countries': ['Australia', 'Canada', 'United Kingdom of Great Britain and Northern Ireland', 'New Zealand', 'United States of America'], 'returned_refugees': 0.0, 'resettlement': 10302.0, 'naturalized': 0.0}, {'country': 'Guatemala', 'destination_countries': ['Canada'], 'returned_refugees': 0.0, 'resettlement': 5.0, 'naturalized': 0.0}, {'country': 'Malawi', 'destination_countries': ['Australia'], 'returned_refugees': 0.0, 'resettlement': 46.0, 'naturalized': 0.0}, {'country': 'Mozambique', 'destination_countries': ['Australia'], 'returned_refugees': 0.0, 'resettlement': 31.0, 'naturalized': 0.0}, {'country': 'China', 'destination_countries': ['Australia', 'Belgium', 'Canada', 'Finland', 'Ireland', 'Netherlands', 'New Zealand', 'United States of America'], 'returned_refugees': 0.0, 'resettlement': 135.0, 'naturalized': 82.0}, {'country': 'Tanzania', 'destination_countries': ['Australia', 'Belgium'], 'returned_refugees': 0.0, 'resettlement': 42.0, 'naturalized': 10.0}, {'country': 'Uganda', 'destination_countries': ['Australia', 'Canada', 'Ireland', 'Netherlands', 'United States of America'], 'returned_refugees': 0.0, 'resettlement': 40.0, 'naturalized': 8.0}, {'country': 'Eritrea', 'destination_countries': ['Australia', 'Belgium', 'Benin', 'Canada', 'Denmark', 'Finland', 'United Kingdom of Great Britain and Northern Ireland', 'Ireland', 'Netherlands', 'Norway', 'New Zealand', 'Sweden', 'United States of America'], 'returned_refugees': 0.0, 'resettlement': 3585.0, 'naturalized': 30.0}, {'country': 'Tunisia', 'destination_countries': ['Belgium'], 'returned_refugees': 0.0, 'resettlement': 0.0, 'naturalized': 7.0}, {'country': 'North Korea', 'destination_countries': ['United States of America'], 'returned_refugees': 0.0, 'resettlement': 14.0, 'naturalized': 0.0}, {'country': 'Sierra Leone', 'destination_countries': ['Australia', 'Belgium', 'Canada', 'United States of America'], 'returned_refugees': 0.0, 'resettlement': 43.0, 'naturalized': 8.0}, {'country': 'Albania', 'destination_countries': ['Belgium', 'France', 'Ireland'], 'returned_refugees': 0.0, 'resettlement': 0.0, 'naturalized': 50.0}, {'country': 'Greece', 'destination_countries': ['Canada'], 'returned_refugees': 0.0, 'resettlement': 7.0, 'naturalized': 0.0}, {'country': 'Russia', 'destination_countries': ['Belgium', 'France', 'Georgia', 'Ireland', 'Luxembourg', 'United States of America'], 'returned_refugees': 0.0, 'resettlement': 98.0, 'naturalized': 601.0}, {'country': 'Cuba', 'destination_countries': ['Canada', 'United States of America'], 'returned_refugees': 0.0, 'resettlement': 4127.0, 'naturalized': 0.0}, {'country': 'Mauritania', 'destination_countries': ['Belgium', 'France', 'Sweden'], 'returned_refugees': 0.0, 'resettlement': 9.0, 'naturalized': 60.0}, {'country': 'Egypt', 'destination_countries': ['Australia', 'Belgium', 'Canada', 'United States of America'], 'returned_refugees': 0.0, 'resettlement': 234.0, 'naturalized': 5.0}, {'country': 'Israel', 'destination_countries': ['Canada', 'Ireland'], 'returned_refugees': 0.0, 'resettlement': 6.0, 'naturalized': 5.0}, {'country': 'Dem. Rep. Congo', 'destination_countries': ['Australia', 'Burundi', 'Belgium', 'Benin', 'Canada', 'Central African Rep.', 'Congo', 'Dem. Rep. of the Congo', 'Denmark', 'Finland', 'France', 'Ireland', 'Morocco', 'New Zealand', 'South Africa', 'Sudan', 'Sweden', 'Uganda', 'United States of America', 'Zambia'], 'returned_refugees': 68417.0, 'resettlement': 4870.0, 'naturalized': 256.0}, {'country': 'Kazakhstan', 'destination_countries': ['United States of America'], 'returned_refugees': 0.0, 'resettlement': 5.0, 'naturalized': 0.0}, {'country': 'Morocco', 'destination_countries': ['Canada', 'Ireland'], 'returned_refugees': 0.0, 'resettlement': 5.0, 'naturalized': 5.0}, {'country': 'Ecuador', 'destination_countries': ['Brazil', 'Canada', 'Norway', 'New Zealand'], 'returned_refugees': 0.0, 'resettlement': 29.0, 'naturalized': 0.0}, {'country': 'Botswana', 'destination_countries': ['Australia'], 'returned_refugees': 0.0, 'resettlement': 7.0, 'naturalized': 0.0}, {'country': 'El Salvador', 'destination_countries': ['Belize', 'Nicaragua'], 'returned_refugees': 0.0, 'resettlement': 0.0, 'naturalized': 12.0}, {'country': 'South Sudan', 'destination_countries': ['Egypt', 'Eritrea', 'Syrian Arab Rep.', 'Uganda', 'United States of America'], 'returned_refugees': 392.0, 'resettlement': 34.0, 'naturalized': 0.0}, {'country': 'Lebanon', 'destination_countries': ['Australia', 'Belgium', 'Canada', 'United States of America'], 'returned_refugees': 0.0, 'resettlement': 37.0, 'naturalized': 16.0}, {'country': 'Romania', 'destination_countries': ['Belgium'], 'returned_refugees': 0.0, 'resettlement': 0.0, 'naturalized': 5.0}, {'country': 'Belgium', 'destination_countries': ['United States of America'], 'returned_refugees': 0.0, 'resettlement': 10.0, 'naturalized': 0.0}, {'country': 'Congo', 'destination_countries': ['Australia', 'Belgium', 'Benin', 'Burkina Faso', 'Canada', 'Cameroon', 'Gabon', 'United Kingdom of Great Britain and Northern Ireland', 'Ireland', 'Netherlands', 'Norway', 'South Africa', 'United States of America'], 'returned_refugees': 29.0, 'resettlement': 629.0, 'naturalized': 118.0}, {'country': 'Iran', 'destination_countries': ['Australia', 'Belgium', 'Bangladesh', 'Canada', 'Finland', 'United Kingdom of Great Britain and Northern Ireland', 'Germany', 'Ireland', 'Iraq', 'Norway', 'New Zealand', 'Sweden', 'United States of America'], 'returned_refugees': 0.0, 'resettlement': 4795.0, 'naturalized': 287.0}, {'country': 'Serbia', 'destination_countries': ['Belgium', 'Croatia', 'Ireland', 'Luxembourg', 'North Macedonia', 'Montenegro', 'Serbia and Kosovo: S/RES/1244 (1999)'], 'returned_refugees': 168.0, 'resettlement': 0.0, 'naturalized': 144.0}, {'country': 'Chad', 'destination_countries': ['Belgium', 'Benin', 'Canada', 'Cameroon', 'United States of America'], 'returned_refugees': 389.0, 'resettlement': 49.0, 'naturalized': 87.0}, {'country': 'Venezuela', 'destination_countries': ['Colombia'], 'returned_refugees': 0.0, 'resettlement': 0.0, 'naturalized': 5.0}, {'country': 'Sudan', 'destination_countries': ['Egypt', 'Australia', 'Belgium', 'Canada', 'Chad', 'Denmark', 'United Kingdom of Great Britain and Northern Ireland', 'Ireland', 'Netherlands', 'Norway', 'New Zealand', 'Portugal', 'Sudan', 'Sweden', 'United States of America'], 'returned_refugees': 16949.0, 'resettlement': 2727.0, 'naturalized': 35.0}, {'country': 'Cambodia', 'destination_countries': ['Australia', 'Canada', 'Philippines', 'United States of America'], 'returned_refugees': 0.0, 'resettlement': 69.0, 'naturalized': 0.0}, {'country': 'Malaysia', 'destination_countries': ['Australia'], 'returned_refugees': 0.0, 'resettlement': 193.0, 'naturalized': 0.0}, {'country': 'Djibouti', 'destination_countries': ['Belgium', 'Canada'], 'returned_refugees': 0.0, 'resettlement': 5.0, 'naturalized': 12.0}, {'country': 'Zambia', 'destination_countries': ['Australia'], 'returned_refugees': 0.0, 'resettlement': 23.0, 'naturalized': 0.0}, {'country': 'Central African Rep.', 'destination_countries': ['Belgium', 'Benin', 'Canada', 'Sweden', 'United States of America'], 'returned_refugees': 0.0, 'resettlement': 469.0, 'naturalized': 11.0}, {'country': 'Gambia', 'destination_countries': ['United States of America'], 'returned_refugees': 0.0, 'resettlement': 9.0, 'naturalized': 0.0}, {'country': 'Algeria', 'destination_countries': ['Belgium', 'France', 'Ireland'], 'returned_refugees': 0.0, 'resettlement': 0.0, 'naturalized': 28.0}, {'country': 'Croatia', 'destination_countries': ['Bosnia and Herzegovina', 'Ireland', 'Montenegro', 'Serbia and Kosovo: S/RES/1244 (1999)'], 'returned_refugees': 503.0, 'resettlement': 0.0, 'naturalized': 61.0}, {'country': 'Uzbekistan', 'destination_countries': ['Belgium', 'Ireland', 'Netherlands', 'Sweden', 'United States of America'], 'returned_refugees': 0.0, 'resettlement': 51.0, 'naturalized': 12.0}, {'country': 'Guinea', 'destination_countries': ['Australia', 'Belgium', 'France', 'Ireland', 'United States of America'], 'returned_refugees': 0.0, 'resettlement': 20.0, 'naturalized': 321.0}, {'country': 'Zimbabwe', 'destination_countries': ['Australia', 'Canada', 'Ireland', 'United States of America'], 'returned_refugees': 0.0, 'resettlement': 23.0, 'naturalized': 17.0}, {'country': 'Philippines', 'destination_countries': ['Philippines'], 'returned_refugees': 0.0, 'resettlement': 0.0, 'naturalized': 0.0}, {'country': 'Kuwait', 'destination_countries': ['Ireland', 'United States of America'], 'returned_refugees': 0.0, 'resettlement': 11.0, 'naturalized': 5.0}, {'country': 'Mali', 'destination_countries': ['Algeria', 'Belgium', 'Burkina Faso', 'France', 'Guinea', 'Mauritania', 'Mali', 'Niger'], 'returned_refugees': 14278.0, 'resettlement': 0.0, 'naturalized': 10.0}, {'country': 'Senegal', 'destination_countries': ['Belgium', 'Sweden'], 'returned_refugees': 0.0, 'resettlement': 7.0, 'naturalized': 15.0}]\n"
     ]
    }
   ],
   "source": [
    "print(countries_solutions_dict)"
   ]
  },
  {
   "cell_type": "code",
   "execution_count": 63,
   "metadata": {},
   "outputs": [
    {
     "ename": "TypeError",
     "evalue": "list indices must be integers or slices, not str",
     "output_type": "error",
     "traceback": [
      "\u001b[0;31m---------------------------------------------------------------------------\u001b[0m",
      "\u001b[0;31mTypeError\u001b[0m                                 Traceback (most recent call last)",
      "\u001b[0;32m<ipython-input-63-85e15114ffd4>\u001b[0m in \u001b[0;36m<module>\u001b[0;34m\u001b[0m\n\u001b[0;32m----> 1\u001b[0;31m \u001b[0msorted_solutions\u001b[0m \u001b[0;34m=\u001b[0m \u001b[0msorted\u001b[0m\u001b[0;34m(\u001b[0m\u001b[0mcountries_solutions_dict\u001b[0m\u001b[0;34m[\u001b[0m\u001b[0;34m'returned_refugees'\u001b[0m\u001b[0;34m]\u001b[0m\u001b[0;34m)\u001b[0m\u001b[0;34m\u001b[0m\u001b[0;34m\u001b[0m\u001b[0m\n\u001b[0m\u001b[1;32m      2\u001b[0m \u001b[0;34m\u001b[0m\u001b[0m\n\u001b[1;32m      3\u001b[0m \u001b[0;31m# dict1 = {1: 1, 2: 9, 3: 4}\u001b[0m\u001b[0;34m\u001b[0m\u001b[0;34m\u001b[0m\u001b[0;34m\u001b[0m\u001b[0m\n\u001b[1;32m      4\u001b[0m \u001b[0;31m# sorted_tuples = sorted(dict1.items(), key=lambda item: item[1])\u001b[0m\u001b[0;34m\u001b[0m\u001b[0;34m\u001b[0m\u001b[0;34m\u001b[0m\u001b[0m\n\u001b[1;32m      5\u001b[0m \u001b[0;31m# print(sorted_tuples)  # [(1, 1), (3, 4), (2, 9)]\u001b[0m\u001b[0;34m\u001b[0m\u001b[0;34m\u001b[0m\u001b[0;34m\u001b[0m\u001b[0m\n",
      "\u001b[0;31mTypeError\u001b[0m: list indices must be integers or slices, not str"
     ]
    }
   ],
   "source": [
    "sorted_solutions = sorted(countries_solutions_dict['returned_refugees'])\n",
    "\n",
    "# dict1 = {1: 1, 2: 9, 3: 4}\n",
    "# sorted_tuples = sorted(dict1.items(), key=lambda item: item[1])\n",
    "# print(sorted_tuples)  # [(1, 1), (3, 4), (2, 9)]\n",
    "# sorted_dict = {k: v for k, v in sorted_tuples}"
   ]
  },
  {
   "cell_type": "code",
   "execution_count": 26,
   "metadata": {},
   "outputs": [
    {
     "name": "stdout",
     "output_type": "stream",
     "text": [
      "{'country': 'United Kingdom', 'destination_countries': ['Australia', 'Canada', 'Germany', 'Sweden', 'United States of America'], 'destination_r': [{'Australia': 5.0}, {'Canada': 63.0}, {'Germany': 11.0}, {'Sweden': 6.0}, {'United States of America': 52.0}], 'destination_a': [{'Australia': 8.0}, {'Canada': 0.0}, {'Germany': 0.0}, {'Sweden': 0.0}, {'United States of America': 69.0}], 'totals': [{'total_refugees': 137.0, 'total_asylum': 77.0}]}\n"
     ]
    }
   ],
   "source": [
    "countries_dict_2014=[]\n",
    "for i, origin in enumerate(origin_set_2014):\n",
    "    countries_dict_2014.append({\"country\": origin, \"destination_countries\":[], \"destination_r\": [] ,\"destination_a\": [], \"totals\": [] })\n",
    "    #print(countries_dict[i]['destination'])\n",
    "   \n",
    "    origin_data = data_2014[data_2014['origin_country']==origin]\n",
    "   \n",
    "    total_refugees = 0.0\n",
    "    total_asylum = 0.0\n",
    "    \n",
    "    for j, asylum in enumerate(origin_data['asylum_country']):\n",
    "        \n",
    "        countries_dict_2014[i][\"destination_countries\"].append(asylum)\n",
    "        countries_dict_2014[i][\"destination_r\"].append({asylum: (float(origin_data[\"number_refugees\"].iloc[j]))})\n",
    "        countries_dict_2014[i][\"destination_a\"].append({asylum: (float(origin_data[\"number_asylum\"].iloc[j]))})\n",
    "        \n",
    "        total_refugees+= float(origin_data[\"number_refugees\"].iloc[j])\n",
    "        \n",
    "        total_asylum+= float(origin_data[\"number_asylum\"].iloc[j])\n",
    "        \n",
    "        #print(origin_data['number_refugees'].iloc[j])\n",
    "        \n",
    "    countries_dict_2014[i][\"totals\"].append({\"total_refugees\": total_refugees, \"total_asylum\": total_asylum})\n",
    "    #countries_dict_2014[i][\"destination_r\"] = sorted(countries_dict_2014[i][\"destination_r\"], key = lambda x:x[0], reverse=True)\n",
    "    \n",
    "\n",
    "\n",
    "print(countries_dict_2014[0])\n",
    "\n",
    "\n"
   ]
  },
  {
   "cell_type": "code",
   "execution_count": 17,
   "metadata": {},
   "outputs": [],
   "source": [
    "#res2014 = str(countries_dict_2014)[1:-1]\n",
    "#print(res2014)"
   ]
  },
  {
   "cell_type": "code",
   "execution_count": 18,
   "metadata": {},
   "outputs": [],
   "source": [
    "#res2013 = str(countries_dict)[1:-1]\n",
    "#print(res2013)"
   ]
  },
  {
   "cell_type": "code",
   "execution_count": 19,
   "metadata": {},
   "outputs": [],
   "source": [
    "# with open('countries-2013-1.json', 'w') as f: \n",
    "#     json.dump(res2013,f)"
   ]
  },
  {
   "cell_type": "code",
   "execution_count": 20,
   "metadata": {},
   "outputs": [],
   "source": [
    "# with open('countries-2014-1.json', 'w') as f: \n",
    "#     json.dump(res2014,f)"
   ]
  },
  {
   "cell_type": "code",
   "execution_count": 32,
   "metadata": {},
   "outputs": [],
   "source": [
    "with open('countries-2013-new.json', 'w') as f: \n",
    "    json.dump(countries_dict,f)"
   ]
  },
  {
   "cell_type": "code",
   "execution_count": 22,
   "metadata": {},
   "outputs": [],
   "source": [
    "# with open('countries-2014-new.json', 'w') as f: \n",
    "#     json.dump(countries_dict_2014,f)"
   ]
  },
  {
   "cell_type": "code",
   "execution_count": null,
   "metadata": {},
   "outputs": [],
   "source": []
  }
 ],
 "metadata": {
  "kernelspec": {
   "display_name": "Python 3",
   "language": "python",
   "name": "python3"
  },
  "language_info": {
   "codemirror_mode": {
    "name": "ipython",
    "version": 3
   },
   "file_extension": ".py",
   "mimetype": "text/x-python",
   "name": "python",
   "nbconvert_exporter": "python",
   "pygments_lexer": "ipython3",
   "version": "3.8.3"
  }
 },
 "nbformat": 4,
 "nbformat_minor": 4
}
